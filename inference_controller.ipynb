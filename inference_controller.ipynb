{
  "cells": [
    {
      "cell_type": "code",
      "execution_count": null,
      "metadata": {
        "id": "KUK9aRjsT7Q2"
      },
      "outputs": [],
      "source": [
        "# Mount Google Drive\n",
        "from google.colab import drive\n",
        "drive.mount('/content/drive')"
      ]
    },
    {
      "cell_type": "code",
      "execution_count": null,
      "metadata": {
        "id": "1InaY5s-HEjf"
      },
      "outputs": [],
      "source": [
        "import os\n",
        "import gdown\n",
        "from pathlib import Path\n",
        "\n",
        "# Change working directory to your Google Drive\n",
        "os.chdir('/content/drive/MyDrive/')\n",
        "\n",
        "# Cloning the repository in your Google Drive.\n",
        "# If you are doing inference right after doing training then no need to clone as during training process, this GitHub repo is cloned.\n",
        "!git clone https://github.com/malayjoshi13/Understanding-Transformer.git\n",
        "\n",
        "# Change working directory to your cloned repository\n",
        "os.chdir('/content/drive/MyDrive/Understanding-Transformer/')\n",
        "\n",
        "# Installing required packages\n",
        "!pip install -r requirements.txt\n",
        "\n",
        "################################################################################\n",
        "\n",
        "# Download tokenizer files and model weights in \"./output\" folder\n",
        "\n",
        "# if your link is \"https://drive.google.com/file/d/ABC12345XYZ/view,\" then \"ABC12345XYZ\" is the file's ID.\n",
        "\n",
        "# Downloading tokenizer files\n",
        "file_id1 = \"1kIUMvKGiyERP1T7lSaeJfXk0Jtiy-DGR\"  # Replace this with your file's ID\n",
        "file_id2 = \"1ZNzTCtivH0ovR9XXgQavZmIJfu2msbec\"  # Replace this with your file's ID\n",
        "output_folder1 = \"output/vocab/\"  # Add desired output filename and extension\n",
        "\n",
        "Path(output_folder1).mkdir(parents=True, exist_ok=True)\n",
        "\n",
        "gdown.download(f\"https://drive.google.com/uc?id={file_id1}\", output_folder1)\n",
        "gdown.download(f\"https://drive.google.com/uc?id={file_id2}\", output_folder1)\n",
        "\n",
        "# Downloading model weights\n",
        "file_id = \"17a8_DNtt2ytCqWBK-3PufIgvRPFyqpcJ\"  # Replace this with your file's ID\n",
        "output_folder2 = \"output/weights/\"  # Add desired output filename and extension\n",
        "\n",
        "Path(output_folder2).mkdir(parents=True, exist_ok=True)\n",
        "\n",
        "gdown.download(f\"https://drive.google.com/uc?id={file_id}\", output_folder2)"
      ]
    },
    {
      "cell_type": "code",
      "execution_count": null,
      "metadata": {
        "id": "5A6VEz_RTeJi"
      },
      "outputs": [],
      "source": [
        "# Insert your Hindi sentence to translate into English\n",
        "sentence_to_translate = \"this is machine translation\"\n",
        "\n",
        "from inference_pipeline import translate\n",
        "from visualize_attention import generate_attention_maps\n",
        "\n",
        "# Now wait for magic!!\n",
        "output_sentence, model = translate(sentence_to_translate)\n",
        "print(\"Input sentence: \"+str(sentence_to_translate))\n",
        "print(\"Translated sentence: \"+str(output_sentence))"
      ]
    },
    {
      "cell_type": "code",
      "execution_count": null,
      "metadata": {
        "id": "KEp6XayVS3xe"
      },
      "outputs": [],
      "source": [
        "# View attention learnt by encoder's self attention head(s), decoder's self attention head(s) and encoder-decoder's cross attention head(s)\n",
        "generate_attention_maps(model, sentence_to_translate, output_sentence, \"encoder\")"
      ]
    }
  ],
  "metadata": {
    "accelerator": "GPU",
    "colab": {
      "gpuType": "T4",
      "provenance": []
    },
    "kernelspec": {
      "display_name": "Python 3",
      "name": "python3"
    },
    "language_info": {
      "codemirror_mode": {
        "name": "ipython",
        "version": 3
      },
      "file_extension": ".py",
      "mimetype": "text/x-python",
      "name": "python",
      "nbconvert_exporter": "python",
      "pygments_lexer": "ipython3",
      "version": "3.10.6"
    }
  },
  "nbformat": 4,
  "nbformat_minor": 0
}
