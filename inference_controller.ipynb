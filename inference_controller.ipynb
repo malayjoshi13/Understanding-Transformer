{
  "cells": [
    {
      "cell_type": "code",
      "execution_count": 1,
      "metadata": {
        "colab": {
          "base_uri": "https://localhost:8080/"
        },
        "id": "KUK9aRjsT7Q2",
        "outputId": "ac39cbc6-beaa-417f-c5f3-a27d90b618a7"
      },
      "outputs": [
        {
          "output_type": "stream",
          "name": "stdout",
          "text": [
            "Mounted at /content/drive\n"
          ]
        }
      ],
      "source": [
        "# Mount Google Drive\n",
        "from google.colab import drive\n",
        "drive.mount('/content/drive')"
      ]
    },
    {
      "cell_type": "code",
      "execution_count": 4,
      "metadata": {
        "id": "1InaY5s-HEjf",
        "outputId": "110717f8-cdf5-455e-a845-dd00783f5ed4",
        "colab": {
          "base_uri": "https://localhost:8080/",
          "height": 1000
        }
      },
      "outputs": [
        {
          "output_type": "stream",
          "name": "stdout",
          "text": [
            "fatal: destination path 'Understanding-Transformer' already exists and is not an empty directory.\n",
            "Requirement already satisfied: torch in /usr/local/lib/python3.10/dist-packages (from -r requirements.txt (line 1)) (2.1.0+cu118)\n",
            "Requirement already satisfied: torchtext in /usr/local/lib/python3.10/dist-packages (from -r requirements.txt (line 2)) (0.16.0)\n",
            "Requirement already satisfied: datasets in /usr/local/lib/python3.10/dist-packages (from -r requirements.txt (line 3)) (2.15.0)\n",
            "Requirement already satisfied: tokenizers in /usr/local/lib/python3.10/dist-packages (from -r requirements.txt (line 4)) (0.15.0)\n",
            "Requirement already satisfied: torchmetrics in /usr/local/lib/python3.10/dist-packages (from -r requirements.txt (line 5)) (1.2.0)\n",
            "Requirement already satisfied: tensorboard in /usr/local/lib/python3.10/dist-packages (from -r requirements.txt (line 6)) (2.14.1)\n",
            "Requirement already satisfied: altair in /usr/local/lib/python3.10/dist-packages (from -r requirements.txt (line 7)) (4.2.2)\n",
            "Requirement already satisfied: gdown in /usr/local/lib/python3.10/dist-packages (from -r requirements.txt (line 8)) (4.6.6)\n",
            "Requirement already satisfied: py7zr in /usr/local/lib/python3.10/dist-packages (from -r requirements.txt (line 9)) (0.20.8)\n",
            "Requirement already satisfied: filelock in /usr/local/lib/python3.10/dist-packages (from torch->-r requirements.txt (line 1)) (3.13.1)\n",
            "Requirement already satisfied: typing-extensions in /usr/local/lib/python3.10/dist-packages (from torch->-r requirements.txt (line 1)) (4.5.0)\n",
            "Requirement already satisfied: sympy in /usr/local/lib/python3.10/dist-packages (from torch->-r requirements.txt (line 1)) (1.12)\n",
            "Requirement already satisfied: networkx in /usr/local/lib/python3.10/dist-packages (from torch->-r requirements.txt (line 1)) (3.2.1)\n",
            "Requirement already satisfied: jinja2 in /usr/local/lib/python3.10/dist-packages (from torch->-r requirements.txt (line 1)) (3.1.2)\n",
            "Requirement already satisfied: fsspec in /usr/local/lib/python3.10/dist-packages (from torch->-r requirements.txt (line 1)) (2023.6.0)\n",
            "Requirement already satisfied: triton==2.1.0 in /usr/local/lib/python3.10/dist-packages (from torch->-r requirements.txt (line 1)) (2.1.0)\n",
            "Requirement already satisfied: tqdm in /usr/local/lib/python3.10/dist-packages (from torchtext->-r requirements.txt (line 2)) (4.66.1)\n",
            "Requirement already satisfied: requests in /usr/local/lib/python3.10/dist-packages (from torchtext->-r requirements.txt (line 2)) (2.31.0)\n",
            "Requirement already satisfied: numpy in /usr/local/lib/python3.10/dist-packages (from torchtext->-r requirements.txt (line 2)) (1.23.5)\n",
            "Requirement already satisfied: torchdata==0.7.0 in /usr/local/lib/python3.10/dist-packages (from torchtext->-r requirements.txt (line 2)) (0.7.0)\n",
            "Requirement already satisfied: urllib3>=1.25 in /usr/local/lib/python3.10/dist-packages (from torchdata==0.7.0->torchtext->-r requirements.txt (line 2)) (2.0.7)\n",
            "Requirement already satisfied: pyarrow>=8.0.0 in /usr/local/lib/python3.10/dist-packages (from datasets->-r requirements.txt (line 3)) (9.0.0)\n",
            "Requirement already satisfied: pyarrow-hotfix in /usr/local/lib/python3.10/dist-packages (from datasets->-r requirements.txt (line 3)) (0.6)\n",
            "Requirement already satisfied: dill<0.3.8,>=0.3.0 in /usr/local/lib/python3.10/dist-packages (from datasets->-r requirements.txt (line 3)) (0.3.7)\n",
            "Requirement already satisfied: pandas in /usr/local/lib/python3.10/dist-packages (from datasets->-r requirements.txt (line 3)) (1.5.3)\n",
            "Requirement already satisfied: xxhash in /usr/local/lib/python3.10/dist-packages (from datasets->-r requirements.txt (line 3)) (3.4.1)\n",
            "Requirement already satisfied: multiprocess in /usr/local/lib/python3.10/dist-packages (from datasets->-r requirements.txt (line 3)) (0.70.15)\n",
            "Requirement already satisfied: aiohttp in /usr/local/lib/python3.10/dist-packages (from datasets->-r requirements.txt (line 3)) (3.8.6)\n",
            "Requirement already satisfied: huggingface-hub>=0.18.0 in /usr/local/lib/python3.10/dist-packages (from datasets->-r requirements.txt (line 3)) (0.19.4)\n",
            "Requirement already satisfied: packaging in /usr/local/lib/python3.10/dist-packages (from datasets->-r requirements.txt (line 3)) (23.2)\n",
            "Requirement already satisfied: pyyaml>=5.1 in /usr/local/lib/python3.10/dist-packages (from datasets->-r requirements.txt (line 3)) (6.0.1)\n",
            "Requirement already satisfied: lightning-utilities>=0.8.0 in /usr/local/lib/python3.10/dist-packages (from torchmetrics->-r requirements.txt (line 5)) (0.10.0)\n",
            "Requirement already satisfied: absl-py>=0.4 in /usr/local/lib/python3.10/dist-packages (from tensorboard->-r requirements.txt (line 6)) (1.4.0)\n",
            "Requirement already satisfied: grpcio>=1.48.2 in /usr/local/lib/python3.10/dist-packages (from tensorboard->-r requirements.txt (line 6)) (1.59.2)\n",
            "Requirement already satisfied: google-auth<3,>=1.6.3 in /usr/local/lib/python3.10/dist-packages (from tensorboard->-r requirements.txt (line 6)) (2.17.3)\n",
            "Requirement already satisfied: google-auth-oauthlib<1.1,>=0.5 in /usr/local/lib/python3.10/dist-packages (from tensorboard->-r requirements.txt (line 6)) (1.0.0)\n",
            "Requirement already satisfied: markdown>=2.6.8 in /usr/local/lib/python3.10/dist-packages (from tensorboard->-r requirements.txt (line 6)) (3.5.1)\n",
            "Requirement already satisfied: protobuf>=3.19.6 in /usr/local/lib/python3.10/dist-packages (from tensorboard->-r requirements.txt (line 6)) (3.20.3)\n",
            "Requirement already satisfied: setuptools>=41.0.0 in /usr/local/lib/python3.10/dist-packages (from tensorboard->-r requirements.txt (line 6)) (67.7.2)\n",
            "Requirement already satisfied: six>1.9 in /usr/local/lib/python3.10/dist-packages (from tensorboard->-r requirements.txt (line 6)) (1.16.0)\n",
            "Requirement already satisfied: tensorboard-data-server<0.8.0,>=0.7.0 in /usr/local/lib/python3.10/dist-packages (from tensorboard->-r requirements.txt (line 6)) (0.7.2)\n",
            "Requirement already satisfied: werkzeug>=1.0.1 in /usr/local/lib/python3.10/dist-packages (from tensorboard->-r requirements.txt (line 6)) (3.0.1)\n",
            "Requirement already satisfied: entrypoints in /usr/local/lib/python3.10/dist-packages (from altair->-r requirements.txt (line 7)) (0.4)\n",
            "Requirement already satisfied: jsonschema>=3.0 in /usr/local/lib/python3.10/dist-packages (from altair->-r requirements.txt (line 7)) (4.19.2)\n",
            "Requirement already satisfied: toolz in /usr/local/lib/python3.10/dist-packages (from altair->-r requirements.txt (line 7)) (0.12.0)\n",
            "Requirement already satisfied: beautifulsoup4 in /usr/local/lib/python3.10/dist-packages (from gdown->-r requirements.txt (line 8)) (4.11.2)\n",
            "Requirement already satisfied: texttable in /usr/local/lib/python3.10/dist-packages (from py7zr->-r requirements.txt (line 9)) (1.7.0)\n",
            "Requirement already satisfied: pycryptodomex>=3.16.0 in /usr/local/lib/python3.10/dist-packages (from py7zr->-r requirements.txt (line 9)) (3.19.0)\n",
            "Requirement already satisfied: pyzstd>=0.15.9 in /usr/local/lib/python3.10/dist-packages (from py7zr->-r requirements.txt (line 9)) (0.15.9)\n",
            "Requirement already satisfied: pyppmd<1.2.0,>=1.1.0 in /usr/local/lib/python3.10/dist-packages (from py7zr->-r requirements.txt (line 9)) (1.1.0)\n",
            "Requirement already satisfied: pybcj<1.1.0,>=1.0.0 in /usr/local/lib/python3.10/dist-packages (from py7zr->-r requirements.txt (line 9)) (1.0.2)\n",
            "Requirement already satisfied: multivolumefile>=0.2.3 in /usr/local/lib/python3.10/dist-packages (from py7zr->-r requirements.txt (line 9)) (0.2.3)\n",
            "Requirement already satisfied: inflate64<1.1.0,>=1.0.0 in /usr/local/lib/python3.10/dist-packages (from py7zr->-r requirements.txt (line 9)) (1.0.0)\n",
            "Requirement already satisfied: brotli>=1.1.0 in /usr/local/lib/python3.10/dist-packages (from py7zr->-r requirements.txt (line 9)) (1.1.0)\n",
            "Requirement already satisfied: psutil in /usr/local/lib/python3.10/dist-packages (from py7zr->-r requirements.txt (line 9)) (5.9.5)\n",
            "Requirement already satisfied: attrs>=17.3.0 in /usr/local/lib/python3.10/dist-packages (from aiohttp->datasets->-r requirements.txt (line 3)) (23.1.0)\n",
            "Requirement already satisfied: charset-normalizer<4.0,>=2.0 in /usr/local/lib/python3.10/dist-packages (from aiohttp->datasets->-r requirements.txt (line 3)) (3.3.2)\n",
            "Requirement already satisfied: multidict<7.0,>=4.5 in /usr/local/lib/python3.10/dist-packages (from aiohttp->datasets->-r requirements.txt (line 3)) (6.0.4)\n",
            "Requirement already satisfied: async-timeout<5.0,>=4.0.0a3 in /usr/local/lib/python3.10/dist-packages (from aiohttp->datasets->-r requirements.txt (line 3)) (4.0.3)\n",
            "Requirement already satisfied: yarl<2.0,>=1.0 in /usr/local/lib/python3.10/dist-packages (from aiohttp->datasets->-r requirements.txt (line 3)) (1.9.2)\n",
            "Requirement already satisfied: frozenlist>=1.1.1 in /usr/local/lib/python3.10/dist-packages (from aiohttp->datasets->-r requirements.txt (line 3)) (1.4.0)\n",
            "Requirement already satisfied: aiosignal>=1.1.2 in /usr/local/lib/python3.10/dist-packages (from aiohttp->datasets->-r requirements.txt (line 3)) (1.3.1)\n",
            "Requirement already satisfied: cachetools<6.0,>=2.0.0 in /usr/local/lib/python3.10/dist-packages (from google-auth<3,>=1.6.3->tensorboard->-r requirements.txt (line 6)) (5.3.2)\n",
            "Requirement already satisfied: pyasn1-modules>=0.2.1 in /usr/local/lib/python3.10/dist-packages (from google-auth<3,>=1.6.3->tensorboard->-r requirements.txt (line 6)) (0.3.0)\n",
            "Requirement already satisfied: rsa<5,>=3.1.4 in /usr/local/lib/python3.10/dist-packages (from google-auth<3,>=1.6.3->tensorboard->-r requirements.txt (line 6)) (4.9)\n",
            "Requirement already satisfied: requests-oauthlib>=0.7.0 in /usr/local/lib/python3.10/dist-packages (from google-auth-oauthlib<1.1,>=0.5->tensorboard->-r requirements.txt (line 6)) (1.3.1)\n",
            "Requirement already satisfied: jsonschema-specifications>=2023.03.6 in /usr/local/lib/python3.10/dist-packages (from jsonschema>=3.0->altair->-r requirements.txt (line 7)) (2023.11.1)\n",
            "Requirement already satisfied: referencing>=0.28.4 in /usr/local/lib/python3.10/dist-packages (from jsonschema>=3.0->altair->-r requirements.txt (line 7)) (0.31.0)\n",
            "Requirement already satisfied: rpds-py>=0.7.1 in /usr/local/lib/python3.10/dist-packages (from jsonschema>=3.0->altair->-r requirements.txt (line 7)) (0.13.0)\n",
            "Requirement already satisfied: python-dateutil>=2.8.1 in /usr/local/lib/python3.10/dist-packages (from pandas->datasets->-r requirements.txt (line 3)) (2.8.2)\n",
            "Requirement already satisfied: pytz>=2020.1 in /usr/local/lib/python3.10/dist-packages (from pandas->datasets->-r requirements.txt (line 3)) (2023.3.post1)\n",
            "Requirement already satisfied: idna<4,>=2.5 in /usr/local/lib/python3.10/dist-packages (from requests->torchtext->-r requirements.txt (line 2)) (3.4)\n",
            "Requirement already satisfied: certifi>=2017.4.17 in /usr/local/lib/python3.10/dist-packages (from requests->torchtext->-r requirements.txt (line 2)) (2023.7.22)\n",
            "Requirement already satisfied: MarkupSafe>=2.1.1 in /usr/local/lib/python3.10/dist-packages (from werkzeug>=1.0.1->tensorboard->-r requirements.txt (line 6)) (2.1.3)\n",
            "Requirement already satisfied: soupsieve>1.2 in /usr/local/lib/python3.10/dist-packages (from beautifulsoup4->gdown->-r requirements.txt (line 8)) (2.5)\n",
            "Requirement already satisfied: PySocks!=1.5.7,>=1.5.6 in /usr/local/lib/python3.10/dist-packages (from requests->torchtext->-r requirements.txt (line 2)) (1.7.1)\n",
            "Requirement already satisfied: mpmath>=0.19 in /usr/local/lib/python3.10/dist-packages (from sympy->torch->-r requirements.txt (line 1)) (1.3.0)\n",
            "Requirement already satisfied: pyasn1<0.6.0,>=0.4.6 in /usr/local/lib/python3.10/dist-packages (from pyasn1-modules>=0.2.1->google-auth<3,>=1.6.3->tensorboard->-r requirements.txt (line 6)) (0.5.0)\n",
            "Requirement already satisfied: oauthlib>=3.0.0 in /usr/local/lib/python3.10/dist-packages (from requests-oauthlib>=0.7.0->google-auth-oauthlib<1.1,>=0.5->tensorboard->-r requirements.txt (line 6)) (3.2.2)\n"
          ]
        },
        {
          "output_type": "stream",
          "name": "stderr",
          "text": [
            "Downloading...\n",
            "From: https://drive.google.com/uc?id=12d9k6Tu9LAChSNadMaUgfKsXuDMMxg1w\n",
            "To: /content/drive/MyDrive/Understanding-Transformer/output/vocab/tokenizer_en.json\n",
            "100%|██████████| 80.3k/80.3k [00:00<00:00, 22.7MB/s]\n",
            "Downloading...\n",
            "From: https://drive.google.com/uc?id=12aieKmyVVivwwvKksZ-JEtvXEiKzoShu\n",
            "To: /content/drive/MyDrive/Understanding-Transformer/output/vocab/tokenizer_hi.json\n",
            "100%|██████████| 109k/109k [00:00<00:00, 14.0MB/s]\n",
            "Downloading...\n",
            "From: https://drive.google.com/uc?id=12erWnV_2nfc3Mu_vRJw8HP3dlMxJggYD\n",
            "To: /content/drive/MyDrive/Understanding-Transformer/output/weights/tmodel_01.pt\n",
            "100%|██████████| 598M/598M [00:13<00:00, 45.4MB/s]\n"
          ]
        },
        {
          "output_type": "execute_result",
          "data": {
            "text/plain": [
              "'output/weights/tmodel_01.pt'"
            ],
            "application/vnd.google.colaboratory.intrinsic+json": {
              "type": "string"
            }
          },
          "metadata": {},
          "execution_count": 4
        }
      ],
      "source": [
        "import os\n",
        "import gdown\n",
        "from pathlib import Path\n",
        "\n",
        "# Change working directory to your Google Drive\n",
        "os.chdir('/content/drive/MyDrive/')\n",
        "\n",
        "# Cloning the repository in your Google Drive.\n",
        "# If you are doing inference right after doing training then no need to clone as during training process, this GitHub repo is cloned.\n",
        "!git clone https://github.com/malayjoshi13/Understanding-Transformer.git\n",
        "\n",
        "# Change working directory to your cloned repository\n",
        "os.chdir('/content/drive/MyDrive/Understanding-Transformer/')\n",
        "\n",
        "# Installing required packages\n",
        "!pip install -r requirements.txt\n",
        "\n",
        "################################################################################\n",
        "\n",
        "# Download tokenizer files and model weights in \"./output\" folder\n",
        "\n",
        "# if your link is \"https://drive.google.com/file/d/ABC12345XYZ/view,\" then \"ABC12345XYZ\" is the file's ID.\n",
        "# https://drive.google.com/file/d/18paZ5SaOS8BaBXGC_ckIkPmgGgLNXC0W/view?usp=sharing\n",
        "\n",
        "# Downloading tokenizer files\n",
        "file_id1 = \"12d9k6Tu9LAChSNadMaUgfKsXuDMMxg1w\"  # Replace this with your file's ID\n",
        "file_id2 = \"12aieKmyVVivwwvKksZ-JEtvXEiKzoShu\"  # Replace this with your file's ID\n",
        "output_folder1 = \"output/vocab/\"  # Add desired output filename and extension\n",
        "\n",
        "Path(output_folder1).mkdir(parents=True, exist_ok=True)\n",
        "\n",
        "gdown.download(f\"https://drive.google.com/uc?id={file_id1}\", output_folder1)\n",
        "gdown.download(f\"https://drive.google.com/uc?id={file_id2}\", output_folder1)\n",
        "\n",
        "# Downloading model weights\n",
        "file_id = \"12erWnV_2nfc3Mu_vRJw8HP3dlMxJggYD\"  # Replace this with your file's ID\n",
        "output_folder2 = \"output/weights/\"  # Add desired output filename and extension\n",
        "\n",
        "Path(output_folder2).mkdir(parents=True, exist_ok=True)\n",
        "\n",
        "gdown.download(f\"https://drive.google.com/uc?id={file_id}\", output_folder2)"
      ]
    },
    {
      "cell_type": "code",
      "source": [
        "# Insert your Hindi sentence to translate into English\n",
        "sentence_to_translate = \"table\"\n",
        "\n",
        "from inference_pipeline import translate\n",
        "from visualize_attention import generate_attention_maps\n",
        "\n",
        "# Now wait for magic!!\n",
        "output_sentence, model = translate(sentence_to_translate)\n",
        "print(\"Input sentence: \"+str(sentence_to_translate))\n",
        "print(\"Translated sentence: \"+str(output_sentence))"
      ],
      "metadata": {
        "id": "5A6VEz_RTeJi",
        "outputId": "80ab05fd-5b25-449e-8804-4c6ee4253a42",
        "colab": {
          "base_uri": "https://localhost:8080/"
        }
      },
      "execution_count": 5,
      "outputs": [
        {
          "output_type": "stream",
          "name": "stdout",
          "text": [
            "Using device: cuda\n",
            "30000\n",
            "output/vocab/tokenizer_en.json\n",
            "output/vocab/tokenizer_hi.json\n",
            "Max length of source sentence: 75\n",
            "Max length of target sentence: 98\n",
            "Using device: cuda\n",
            "output/weights/tmodel_01.pt\n",
            "Input sentence: table\n",
            "Translated sentence: सारणी सारणी सारणी सारणी\n"
          ]
        }
      ]
    },
    {
      "cell_type": "code",
      "source": [
        "# View attention learnt by encoder's self attention head(s), decoder's self attention head(s) and encoder-decoder's cross attention head(s)\n",
        "generate_attention_maps(model, sentence_to_translate, output_sentence, \"encoder\")"
      ],
      "metadata": {
        "id": "KEp6XayVS3xe",
        "outputId": "81b5f2eb-8919-4d7d-acaa-c0250200ef1f",
        "colab": {
          "base_uri": "https://localhost:8080/",
          "height": 1000
        }
      },
      "execution_count": 6,
      "outputs": [
        {
          "output_type": "execute_result",
          "data": {
            "text/html": [
              "\n",
              "<div id=\"altair-viz-473e88b2ae3746dd9003046298f97aa8\"></div>\n",
              "<script type=\"text/javascript\">\n",
              "  var VEGA_DEBUG = (typeof VEGA_DEBUG == \"undefined\") ? {} : VEGA_DEBUG;\n",
              "  (function(spec, embedOpt){\n",
              "    let outputDiv = document.currentScript.previousElementSibling;\n",
              "    if (outputDiv.id !== \"altair-viz-473e88b2ae3746dd9003046298f97aa8\") {\n",
              "      outputDiv = document.getElementById(\"altair-viz-473e88b2ae3746dd9003046298f97aa8\");\n",
              "    }\n",
              "    const paths = {\n",
              "      \"vega\": \"https://cdn.jsdelivr.net/npm//vega@5?noext\",\n",
              "      \"vega-lib\": \"https://cdn.jsdelivr.net/npm//vega-lib?noext\",\n",
              "      \"vega-lite\": \"https://cdn.jsdelivr.net/npm//vega-lite@4.17.0?noext\",\n",
              "      \"vega-embed\": \"https://cdn.jsdelivr.net/npm//vega-embed@6?noext\",\n",
              "    };\n",
              "\n",
              "    function maybeLoadScript(lib, version) {\n",
              "      var key = `${lib.replace(\"-\", \"\")}_version`;\n",
              "      return (VEGA_DEBUG[key] == version) ?\n",
              "        Promise.resolve(paths[lib]) :\n",
              "        new Promise(function(resolve, reject) {\n",
              "          var s = document.createElement('script');\n",
              "          document.getElementsByTagName(\"head\")[0].appendChild(s);\n",
              "          s.async = true;\n",
              "          s.onload = () => {\n",
              "            VEGA_DEBUG[key] = version;\n",
              "            return resolve(paths[lib]);\n",
              "          };\n",
              "          s.onerror = () => reject(`Error loading script: ${paths[lib]}`);\n",
              "          s.src = paths[lib];\n",
              "        });\n",
              "    }\n",
              "\n",
              "    function showError(err) {\n",
              "      outputDiv.innerHTML = `<div class=\"error\" style=\"color:red;\">${err}</div>`;\n",
              "      throw err;\n",
              "    }\n",
              "\n",
              "    function displayChart(vegaEmbed) {\n",
              "      vegaEmbed(outputDiv, spec, embedOpt)\n",
              "        .catch(err => showError(`Javascript Error: ${err.message}<br>This usually means there's a typo in your chart specification. See the javascript console for the full traceback.`));\n",
              "    }\n",
              "\n",
              "    if(typeof define === \"function\" && define.amd) {\n",
              "      requirejs.config({paths});\n",
              "      require([\"vega-embed\"], displayChart, err => showError(`Error loading script: ${err.message}`));\n",
              "    } else {\n",
              "      maybeLoadScript(\"vega\", \"5\")\n",
              "        .then(() => maybeLoadScript(\"vega-lite\", \"4.17.0\"))\n",
              "        .then(() => maybeLoadScript(\"vega-embed\", \"6\"))\n",
              "        .catch(showError)\n",
              "        .then(() => displayChart(vegaEmbed));\n",
              "    }\n",
              "  })({\"config\": {\"view\": {\"continuousWidth\": 400, \"continuousHeight\": 300}}, \"vconcat\": [{\"hconcat\": [{\"data\": {\"name\": \"data-ffb3ca22963bff8d8f7cd246aad378fa\"}, \"mark\": \"rect\", \"encoding\": {\"color\": {\"field\": \"value\", \"type\": \"quantitative\"}, \"tooltip\": [{\"field\": \"row\", \"type\": \"quantitative\"}, {\"field\": \"column\", \"type\": \"quantitative\"}, {\"field\": \"value\", \"type\": \"quantitative\"}, {\"field\": \"row_token\", \"type\": \"nominal\"}, {\"field\": \"col_token\", \"type\": \"nominal\"}], \"x\": {\"axis\": {\"title\": \"\"}, \"field\": \"col_token\", \"type\": \"nominal\"}, \"y\": {\"axis\": {\"title\": \"\"}, \"field\": \"row_token\", \"type\": \"nominal\"}}, \"height\": 400, \"selection\": {\"selector001\": {\"type\": \"interval\", \"bind\": \"scales\", \"encodings\": [\"x\", \"y\"]}}, \"title\": \"Layer 0 Head 0\", \"width\": 400}, {\"data\": {\"name\": \"data-912204c57dbfdde35d1585b6f2b36638\"}, \"mark\": \"rect\", \"encoding\": {\"color\": {\"field\": \"value\", \"type\": \"quantitative\"}, \"tooltip\": [{\"field\": \"row\", \"type\": \"quantitative\"}, {\"field\": \"column\", \"type\": \"quantitative\"}, {\"field\": \"value\", \"type\": \"quantitative\"}, {\"field\": \"row_token\", \"type\": \"nominal\"}, {\"field\": \"col_token\", \"type\": \"nominal\"}], \"x\": {\"axis\": {\"title\": \"\"}, \"field\": \"col_token\", \"type\": \"nominal\"}, \"y\": {\"axis\": {\"title\": \"\"}, \"field\": \"row_token\", \"type\": \"nominal\"}}, \"height\": 400, \"selection\": {\"selector002\": {\"type\": \"interval\", \"bind\": \"scales\", \"encodings\": [\"x\", \"y\"]}}, \"title\": \"Layer 0 Head 1\", \"width\": 400}, {\"data\": {\"name\": \"data-8ca7f5afe68f474d8761d50dfd650a22\"}, \"mark\": \"rect\", \"encoding\": {\"color\": {\"field\": \"value\", \"type\": \"quantitative\"}, \"tooltip\": [{\"field\": \"row\", \"type\": \"quantitative\"}, {\"field\": \"column\", \"type\": \"quantitative\"}, {\"field\": \"value\", \"type\": \"quantitative\"}, {\"field\": \"row_token\", \"type\": \"nominal\"}, {\"field\": \"col_token\", \"type\": \"nominal\"}], \"x\": {\"axis\": {\"title\": \"\"}, \"field\": \"col_token\", \"type\": \"nominal\"}, \"y\": {\"axis\": {\"title\": \"\"}, \"field\": \"row_token\", \"type\": \"nominal\"}}, \"height\": 400, \"selection\": {\"selector003\": {\"type\": \"interval\", \"bind\": \"scales\", \"encodings\": [\"x\", \"y\"]}}, \"title\": \"Layer 0 Head 2\", \"width\": 400}, {\"data\": {\"name\": \"data-78e8b071abd37f468df15f6fdcab4902\"}, \"mark\": \"rect\", \"encoding\": {\"color\": {\"field\": \"value\", \"type\": \"quantitative\"}, \"tooltip\": [{\"field\": \"row\", \"type\": \"quantitative\"}, {\"field\": \"column\", \"type\": \"quantitative\"}, {\"field\": \"value\", \"type\": \"quantitative\"}, {\"field\": \"row_token\", \"type\": \"nominal\"}, {\"field\": \"col_token\", \"type\": \"nominal\"}], \"x\": {\"axis\": {\"title\": \"\"}, \"field\": \"col_token\", \"type\": \"nominal\"}, \"y\": {\"axis\": {\"title\": \"\"}, \"field\": \"row_token\", \"type\": \"nominal\"}}, \"height\": 400, \"selection\": {\"selector004\": {\"type\": \"interval\", \"bind\": \"scales\", \"encodings\": [\"x\", \"y\"]}}, \"title\": \"Layer 0 Head 3\", \"width\": 400}, {\"data\": {\"name\": \"data-23a70d3e1698937748c8e9892f1a10c9\"}, \"mark\": \"rect\", \"encoding\": {\"color\": {\"field\": \"value\", \"type\": \"quantitative\"}, \"tooltip\": [{\"field\": \"row\", \"type\": \"quantitative\"}, {\"field\": \"column\", \"type\": \"quantitative\"}, {\"field\": \"value\", \"type\": \"quantitative\"}, {\"field\": \"row_token\", \"type\": \"nominal\"}, {\"field\": \"col_token\", \"type\": \"nominal\"}], \"x\": {\"axis\": {\"title\": \"\"}, \"field\": \"col_token\", \"type\": \"nominal\"}, \"y\": {\"axis\": {\"title\": \"\"}, \"field\": \"row_token\", \"type\": \"nominal\"}}, \"height\": 400, \"selection\": {\"selector005\": {\"type\": \"interval\", \"bind\": \"scales\", \"encodings\": [\"x\", \"y\"]}}, \"title\": \"Layer 0 Head 4\", \"width\": 400}, {\"data\": {\"name\": \"data-d4615ada50cd4ee908b3040e481326ad\"}, \"mark\": \"rect\", \"encoding\": {\"color\": {\"field\": \"value\", \"type\": \"quantitative\"}, \"tooltip\": [{\"field\": \"row\", \"type\": \"quantitative\"}, {\"field\": \"column\", \"type\": \"quantitative\"}, {\"field\": \"value\", \"type\": \"quantitative\"}, {\"field\": \"row_token\", \"type\": \"nominal\"}, {\"field\": \"col_token\", \"type\": \"nominal\"}], \"x\": {\"axis\": {\"title\": \"\"}, \"field\": \"col_token\", \"type\": \"nominal\"}, \"y\": {\"axis\": {\"title\": \"\"}, \"field\": \"row_token\", \"type\": \"nominal\"}}, \"height\": 400, \"selection\": {\"selector006\": {\"type\": \"interval\", \"bind\": \"scales\", \"encodings\": [\"x\", \"y\"]}}, \"title\": \"Layer 0 Head 5\", \"width\": 400}, {\"data\": {\"name\": \"data-042d955a9c063d0662007820d4c0ca64\"}, \"mark\": \"rect\", \"encoding\": {\"color\": {\"field\": \"value\", \"type\": \"quantitative\"}, \"tooltip\": [{\"field\": \"row\", \"type\": \"quantitative\"}, {\"field\": \"column\", \"type\": \"quantitative\"}, {\"field\": \"value\", \"type\": \"quantitative\"}, {\"field\": \"row_token\", \"type\": \"nominal\"}, {\"field\": \"col_token\", \"type\": \"nominal\"}], \"x\": {\"axis\": {\"title\": \"\"}, \"field\": \"col_token\", \"type\": \"nominal\"}, \"y\": {\"axis\": {\"title\": \"\"}, \"field\": \"row_token\", \"type\": \"nominal\"}}, \"height\": 400, \"selection\": {\"selector007\": {\"type\": \"interval\", \"bind\": \"scales\", \"encodings\": [\"x\", \"y\"]}}, \"title\": \"Layer 0 Head 6\", \"width\": 400}, {\"data\": {\"name\": \"data-f5b61f9b71247121e9062279ee48396a\"}, \"mark\": \"rect\", \"encoding\": {\"color\": {\"field\": \"value\", \"type\": \"quantitative\"}, \"tooltip\": [{\"field\": \"row\", \"type\": \"quantitative\"}, {\"field\": \"column\", \"type\": \"quantitative\"}, {\"field\": \"value\", \"type\": \"quantitative\"}, {\"field\": \"row_token\", \"type\": \"nominal\"}, {\"field\": \"col_token\", \"type\": \"nominal\"}], \"x\": {\"axis\": {\"title\": \"\"}, \"field\": \"col_token\", \"type\": \"nominal\"}, \"y\": {\"axis\": {\"title\": \"\"}, \"field\": \"row_token\", \"type\": \"nominal\"}}, \"height\": 400, \"selection\": {\"selector008\": {\"type\": \"interval\", \"bind\": \"scales\", \"encodings\": [\"x\", \"y\"]}}, \"title\": \"Layer 0 Head 7\", \"width\": 400}]}, {\"hconcat\": [{\"data\": {\"name\": \"data-be90dfa0c0c58932a0e228466f5fb234\"}, \"mark\": \"rect\", \"encoding\": {\"color\": {\"field\": \"value\", \"type\": \"quantitative\"}, \"tooltip\": [{\"field\": \"row\", \"type\": \"quantitative\"}, {\"field\": \"column\", \"type\": \"quantitative\"}, {\"field\": \"value\", \"type\": \"quantitative\"}, {\"field\": \"row_token\", \"type\": \"nominal\"}, {\"field\": \"col_token\", \"type\": \"nominal\"}], \"x\": {\"axis\": {\"title\": \"\"}, \"field\": \"col_token\", \"type\": \"nominal\"}, \"y\": {\"axis\": {\"title\": \"\"}, \"field\": \"row_token\", \"type\": \"nominal\"}}, \"height\": 400, \"selection\": {\"selector009\": {\"type\": \"interval\", \"bind\": \"scales\", \"encodings\": [\"x\", \"y\"]}}, \"title\": \"Layer 1 Head 0\", \"width\": 400}, {\"data\": {\"name\": \"data-e8ae1a38561dd84783ece9007a874725\"}, \"mark\": \"rect\", \"encoding\": {\"color\": {\"field\": \"value\", \"type\": \"quantitative\"}, \"tooltip\": [{\"field\": \"row\", \"type\": \"quantitative\"}, {\"field\": \"column\", \"type\": \"quantitative\"}, {\"field\": \"value\", \"type\": \"quantitative\"}, {\"field\": \"row_token\", \"type\": \"nominal\"}, {\"field\": \"col_token\", \"type\": \"nominal\"}], \"x\": {\"axis\": {\"title\": \"\"}, \"field\": \"col_token\", \"type\": \"nominal\"}, \"y\": {\"axis\": {\"title\": \"\"}, \"field\": \"row_token\", \"type\": \"nominal\"}}, \"height\": 400, \"selection\": {\"selector010\": {\"type\": \"interval\", \"bind\": \"scales\", \"encodings\": [\"x\", \"y\"]}}, \"title\": \"Layer 1 Head 1\", \"width\": 400}, {\"data\": {\"name\": \"data-8a198295da7968bbb38c0a361f162d64\"}, \"mark\": \"rect\", \"encoding\": {\"color\": {\"field\": \"value\", \"type\": \"quantitative\"}, \"tooltip\": [{\"field\": \"row\", \"type\": \"quantitative\"}, {\"field\": \"column\", \"type\": \"quantitative\"}, {\"field\": \"value\", \"type\": \"quantitative\"}, {\"field\": \"row_token\", \"type\": \"nominal\"}, {\"field\": \"col_token\", \"type\": \"nominal\"}], \"x\": {\"axis\": {\"title\": \"\"}, \"field\": \"col_token\", \"type\": \"nominal\"}, \"y\": {\"axis\": {\"title\": \"\"}, \"field\": \"row_token\", \"type\": \"nominal\"}}, \"height\": 400, \"selection\": {\"selector011\": {\"type\": \"interval\", \"bind\": \"scales\", \"encodings\": [\"x\", \"y\"]}}, \"title\": \"Layer 1 Head 2\", \"width\": 400}, {\"data\": {\"name\": \"data-703671d514966a316f6f969499aaae46\"}, \"mark\": \"rect\", \"encoding\": {\"color\": {\"field\": \"value\", \"type\": \"quantitative\"}, \"tooltip\": [{\"field\": \"row\", \"type\": \"quantitative\"}, {\"field\": \"column\", \"type\": \"quantitative\"}, {\"field\": \"value\", \"type\": \"quantitative\"}, {\"field\": \"row_token\", \"type\": \"nominal\"}, {\"field\": \"col_token\", \"type\": \"nominal\"}], \"x\": {\"axis\": {\"title\": \"\"}, \"field\": \"col_token\", \"type\": \"nominal\"}, \"y\": {\"axis\": {\"title\": \"\"}, \"field\": \"row_token\", \"type\": \"nominal\"}}, \"height\": 400, \"selection\": {\"selector012\": {\"type\": \"interval\", \"bind\": \"scales\", \"encodings\": [\"x\", \"y\"]}}, \"title\": \"Layer 1 Head 3\", \"width\": 400}, {\"data\": {\"name\": \"data-fe3250895cb1a57c585101f83d206afd\"}, \"mark\": \"rect\", \"encoding\": {\"color\": {\"field\": \"value\", \"type\": \"quantitative\"}, \"tooltip\": [{\"field\": \"row\", \"type\": \"quantitative\"}, {\"field\": \"column\", \"type\": \"quantitative\"}, {\"field\": \"value\", \"type\": \"quantitative\"}, {\"field\": \"row_token\", \"type\": \"nominal\"}, {\"field\": \"col_token\", \"type\": \"nominal\"}], \"x\": {\"axis\": {\"title\": \"\"}, \"field\": \"col_token\", \"type\": \"nominal\"}, \"y\": {\"axis\": {\"title\": \"\"}, \"field\": \"row_token\", \"type\": \"nominal\"}}, \"height\": 400, \"selection\": {\"selector013\": {\"type\": \"interval\", \"bind\": \"scales\", \"encodings\": [\"x\", \"y\"]}}, \"title\": \"Layer 1 Head 4\", \"width\": 400}, {\"data\": {\"name\": \"data-e5dae4e4f73467f5e749df5ab50569f7\"}, \"mark\": \"rect\", \"encoding\": {\"color\": {\"field\": \"value\", \"type\": \"quantitative\"}, \"tooltip\": [{\"field\": \"row\", \"type\": \"quantitative\"}, {\"field\": \"column\", \"type\": \"quantitative\"}, {\"field\": \"value\", \"type\": \"quantitative\"}, {\"field\": \"row_token\", \"type\": \"nominal\"}, {\"field\": \"col_token\", \"type\": \"nominal\"}], \"x\": {\"axis\": {\"title\": \"\"}, \"field\": \"col_token\", \"type\": \"nominal\"}, \"y\": {\"axis\": {\"title\": \"\"}, \"field\": \"row_token\", \"type\": \"nominal\"}}, \"height\": 400, \"selection\": {\"selector014\": {\"type\": \"interval\", \"bind\": \"scales\", \"encodings\": [\"x\", \"y\"]}}, \"title\": \"Layer 1 Head 5\", \"width\": 400}, {\"data\": {\"name\": \"data-9d529e14daa4d30ccb1731a2f9c90f4c\"}, \"mark\": \"rect\", \"encoding\": {\"color\": {\"field\": \"value\", \"type\": \"quantitative\"}, \"tooltip\": [{\"field\": \"row\", \"type\": \"quantitative\"}, {\"field\": \"column\", \"type\": \"quantitative\"}, {\"field\": \"value\", \"type\": \"quantitative\"}, {\"field\": \"row_token\", \"type\": \"nominal\"}, {\"field\": \"col_token\", \"type\": \"nominal\"}], \"x\": {\"axis\": {\"title\": \"\"}, \"field\": \"col_token\", \"type\": \"nominal\"}, \"y\": {\"axis\": {\"title\": \"\"}, \"field\": \"row_token\", \"type\": \"nominal\"}}, \"height\": 400, \"selection\": {\"selector015\": {\"type\": \"interval\", \"bind\": \"scales\", \"encodings\": [\"x\", \"y\"]}}, \"title\": \"Layer 1 Head 6\", \"width\": 400}, {\"data\": {\"name\": \"data-370b745419c194abd55ca1e8c9f89cb9\"}, \"mark\": \"rect\", \"encoding\": {\"color\": {\"field\": \"value\", \"type\": \"quantitative\"}, \"tooltip\": [{\"field\": \"row\", \"type\": \"quantitative\"}, {\"field\": \"column\", \"type\": \"quantitative\"}, {\"field\": \"value\", \"type\": \"quantitative\"}, {\"field\": \"row_token\", \"type\": \"nominal\"}, {\"field\": \"col_token\", \"type\": \"nominal\"}], \"x\": {\"axis\": {\"title\": \"\"}, \"field\": \"col_token\", \"type\": \"nominal\"}, \"y\": {\"axis\": {\"title\": \"\"}, \"field\": \"row_token\", \"type\": \"nominal\"}}, \"height\": 400, \"selection\": {\"selector016\": {\"type\": \"interval\", \"bind\": \"scales\", \"encodings\": [\"x\", \"y\"]}}, \"title\": \"Layer 1 Head 7\", \"width\": 400}]}, {\"hconcat\": [{\"data\": {\"name\": \"data-8baefab44a297875325ef5b85da0e645\"}, \"mark\": \"rect\", \"encoding\": {\"color\": {\"field\": \"value\", \"type\": \"quantitative\"}, \"tooltip\": [{\"field\": \"row\", \"type\": \"quantitative\"}, {\"field\": \"column\", \"type\": \"quantitative\"}, {\"field\": \"value\", \"type\": \"quantitative\"}, {\"field\": \"row_token\", \"type\": \"nominal\"}, {\"field\": \"col_token\", \"type\": \"nominal\"}], \"x\": {\"axis\": {\"title\": \"\"}, \"field\": \"col_token\", \"type\": \"nominal\"}, \"y\": {\"axis\": {\"title\": \"\"}, \"field\": \"row_token\", \"type\": \"nominal\"}}, \"height\": 400, \"selection\": {\"selector017\": {\"type\": \"interval\", \"bind\": \"scales\", \"encodings\": [\"x\", \"y\"]}}, \"title\": \"Layer 2 Head 0\", \"width\": 400}, {\"data\": {\"name\": \"data-b06e18d6b512c72b429e28114c0f1071\"}, \"mark\": \"rect\", \"encoding\": {\"color\": {\"field\": \"value\", \"type\": \"quantitative\"}, \"tooltip\": [{\"field\": \"row\", \"type\": \"quantitative\"}, {\"field\": \"column\", \"type\": \"quantitative\"}, {\"field\": \"value\", \"type\": \"quantitative\"}, {\"field\": \"row_token\", \"type\": \"nominal\"}, {\"field\": \"col_token\", \"type\": \"nominal\"}], \"x\": {\"axis\": {\"title\": \"\"}, \"field\": \"col_token\", \"type\": \"nominal\"}, \"y\": {\"axis\": {\"title\": \"\"}, \"field\": \"row_token\", \"type\": \"nominal\"}}, \"height\": 400, \"selection\": {\"selector018\": {\"type\": \"interval\", \"bind\": \"scales\", \"encodings\": [\"x\", \"y\"]}}, \"title\": \"Layer 2 Head 1\", \"width\": 400}, {\"data\": {\"name\": \"data-4384060a6d5cc81be14d632440ad58a9\"}, \"mark\": \"rect\", \"encoding\": {\"color\": {\"field\": \"value\", \"type\": \"quantitative\"}, \"tooltip\": [{\"field\": \"row\", \"type\": \"quantitative\"}, {\"field\": \"column\", \"type\": \"quantitative\"}, {\"field\": \"value\", \"type\": \"quantitative\"}, {\"field\": \"row_token\", \"type\": \"nominal\"}, {\"field\": \"col_token\", \"type\": \"nominal\"}], \"x\": {\"axis\": {\"title\": \"\"}, \"field\": \"col_token\", \"type\": \"nominal\"}, \"y\": {\"axis\": {\"title\": \"\"}, \"field\": \"row_token\", \"type\": \"nominal\"}}, \"height\": 400, \"selection\": {\"selector019\": {\"type\": \"interval\", \"bind\": \"scales\", \"encodings\": [\"x\", \"y\"]}}, \"title\": \"Layer 2 Head 2\", \"width\": 400}, {\"data\": {\"name\": \"data-78675baee64c87319ab50686eb363797\"}, \"mark\": \"rect\", \"encoding\": {\"color\": {\"field\": \"value\", \"type\": \"quantitative\"}, \"tooltip\": [{\"field\": \"row\", \"type\": \"quantitative\"}, {\"field\": \"column\", \"type\": \"quantitative\"}, {\"field\": \"value\", \"type\": \"quantitative\"}, {\"field\": \"row_token\", \"type\": \"nominal\"}, {\"field\": \"col_token\", \"type\": \"nominal\"}], \"x\": {\"axis\": {\"title\": \"\"}, \"field\": \"col_token\", \"type\": \"nominal\"}, \"y\": {\"axis\": {\"title\": \"\"}, \"field\": \"row_token\", \"type\": \"nominal\"}}, \"height\": 400, \"selection\": {\"selector020\": {\"type\": \"interval\", \"bind\": \"scales\", \"encodings\": [\"x\", \"y\"]}}, \"title\": \"Layer 2 Head 3\", \"width\": 400}, {\"data\": {\"name\": \"data-2dfec4d86a5a35d43eea38ac3723dc4c\"}, \"mark\": \"rect\", \"encoding\": {\"color\": {\"field\": \"value\", \"type\": \"quantitative\"}, \"tooltip\": [{\"field\": \"row\", \"type\": \"quantitative\"}, {\"field\": \"column\", \"type\": \"quantitative\"}, {\"field\": \"value\", \"type\": \"quantitative\"}, {\"field\": \"row_token\", \"type\": \"nominal\"}, {\"field\": \"col_token\", \"type\": \"nominal\"}], \"x\": {\"axis\": {\"title\": \"\"}, \"field\": \"col_token\", \"type\": \"nominal\"}, \"y\": {\"axis\": {\"title\": \"\"}, \"field\": \"row_token\", \"type\": \"nominal\"}}, \"height\": 400, \"selection\": {\"selector021\": {\"type\": \"interval\", \"bind\": \"scales\", \"encodings\": [\"x\", \"y\"]}}, \"title\": \"Layer 2 Head 4\", \"width\": 400}, {\"data\": {\"name\": \"data-fdeda62120690e4fbdc2100564cd427b\"}, \"mark\": \"rect\", \"encoding\": {\"color\": {\"field\": \"value\", \"type\": \"quantitative\"}, \"tooltip\": [{\"field\": \"row\", \"type\": \"quantitative\"}, {\"field\": \"column\", \"type\": \"quantitative\"}, {\"field\": \"value\", \"type\": \"quantitative\"}, {\"field\": \"row_token\", \"type\": \"nominal\"}, {\"field\": \"col_token\", \"type\": \"nominal\"}], \"x\": {\"axis\": {\"title\": \"\"}, \"field\": \"col_token\", \"type\": \"nominal\"}, \"y\": {\"axis\": {\"title\": \"\"}, \"field\": \"row_token\", \"type\": \"nominal\"}}, \"height\": 400, \"selection\": {\"selector022\": {\"type\": \"interval\", \"bind\": \"scales\", \"encodings\": [\"x\", \"y\"]}}, \"title\": \"Layer 2 Head 5\", \"width\": 400}, {\"data\": {\"name\": \"data-f2becac026fe10a858d0da0b870d5251\"}, \"mark\": \"rect\", \"encoding\": {\"color\": {\"field\": \"value\", \"type\": \"quantitative\"}, \"tooltip\": [{\"field\": \"row\", \"type\": \"quantitative\"}, {\"field\": \"column\", \"type\": \"quantitative\"}, {\"field\": \"value\", \"type\": \"quantitative\"}, {\"field\": \"row_token\", \"type\": \"nominal\"}, {\"field\": \"col_token\", \"type\": \"nominal\"}], \"x\": {\"axis\": {\"title\": \"\"}, \"field\": \"col_token\", \"type\": \"nominal\"}, \"y\": {\"axis\": {\"title\": \"\"}, \"field\": \"row_token\", \"type\": \"nominal\"}}, \"height\": 400, \"selection\": {\"selector023\": {\"type\": \"interval\", \"bind\": \"scales\", \"encodings\": [\"x\", \"y\"]}}, \"title\": \"Layer 2 Head 6\", \"width\": 400}, {\"data\": {\"name\": \"data-014c499a7f6717145a95ef2410360477\"}, \"mark\": \"rect\", \"encoding\": {\"color\": {\"field\": \"value\", \"type\": \"quantitative\"}, \"tooltip\": [{\"field\": \"row\", \"type\": \"quantitative\"}, {\"field\": \"column\", \"type\": \"quantitative\"}, {\"field\": \"value\", \"type\": \"quantitative\"}, {\"field\": \"row_token\", \"type\": \"nominal\"}, {\"field\": \"col_token\", \"type\": \"nominal\"}], \"x\": {\"axis\": {\"title\": \"\"}, \"field\": \"col_token\", \"type\": \"nominal\"}, \"y\": {\"axis\": {\"title\": \"\"}, \"field\": \"row_token\", \"type\": \"nominal\"}}, \"height\": 400, \"selection\": {\"selector024\": {\"type\": \"interval\", \"bind\": \"scales\", \"encodings\": [\"x\", \"y\"]}}, \"title\": \"Layer 2 Head 7\", \"width\": 400}]}], \"$schema\": \"https://vega.github.io/schema/vega-lite/v4.17.0.json\", \"datasets\": {\"data-ffb3ca22963bff8d8f7cd246aad378fa\": [{\"row\": 0, \"column\": 0, \"value\": 0.02054794318974018, \"row_token\": \"000 [SOS]\", \"col_token\": \"000 [SOS]\"}, {\"row\": 0, \"column\": 1, \"value\": 0.9316951036453247, \"row_token\": \"000 [SOS]\", \"col_token\": \"001 table\"}, {\"row\": 0, \"column\": 2, \"value\": 0.04775695875287056, \"row_token\": \"000 [SOS]\", \"col_token\": \"002 [EOS]\"}, {\"row\": 1, \"column\": 0, \"value\": 0.01433771662414074, \"row_token\": \"001 table\", \"col_token\": \"000 [SOS]\"}, {\"row\": 1, \"column\": 1, \"value\": 0.9380303025245667, \"row_token\": \"001 table\", \"col_token\": \"001 table\"}, {\"row\": 1, \"column\": 2, \"value\": 0.04763194918632507, \"row_token\": \"001 table\", \"col_token\": \"002 [EOS]\"}, {\"row\": 2, \"column\": 0, \"value\": 0.06541994214057922, \"row_token\": \"002 [EOS]\", \"col_token\": \"000 [SOS]\"}, {\"row\": 2, \"column\": 1, \"value\": 0.6958367228507996, \"row_token\": \"002 [EOS]\", \"col_token\": \"001 table\"}, {\"row\": 2, \"column\": 2, \"value\": 0.2387433499097824, \"row_token\": \"002 [EOS]\", \"col_token\": \"002 [EOS]\"}], \"data-912204c57dbfdde35d1585b6f2b36638\": [{\"row\": 0, \"column\": 0, \"value\": 0.21589519083499908, \"row_token\": \"000 [SOS]\", \"col_token\": \"000 [SOS]\"}, {\"row\": 0, \"column\": 1, \"value\": 0.2362968474626541, \"row_token\": \"000 [SOS]\", \"col_token\": \"001 table\"}, {\"row\": 0, \"column\": 2, \"value\": 0.5478079319000244, \"row_token\": \"000 [SOS]\", \"col_token\": \"002 [EOS]\"}, {\"row\": 1, \"column\": 0, \"value\": 0.14374054968357086, \"row_token\": \"001 table\", \"col_token\": \"000 [SOS]\"}, {\"row\": 1, \"column\": 1, \"value\": 0.5652624368667603, \"row_token\": \"001 table\", \"col_token\": \"001 table\"}, {\"row\": 1, \"column\": 2, \"value\": 0.2909969985485077, \"row_token\": \"001 table\", \"col_token\": \"002 [EOS]\"}, {\"row\": 2, \"column\": 0, \"value\": 0.2848890423774719, \"row_token\": \"002 [EOS]\", \"col_token\": \"000 [SOS]\"}, {\"row\": 2, \"column\": 1, \"value\": 0.3971371352672577, \"row_token\": \"002 [EOS]\", \"col_token\": \"001 table\"}, {\"row\": 2, \"column\": 2, \"value\": 0.317973792552948, \"row_token\": \"002 [EOS]\", \"col_token\": \"002 [EOS]\"}], \"data-8ca7f5afe68f474d8761d50dfd650a22\": [{\"row\": 0, \"column\": 0, \"value\": 0.01177187915891409, \"row_token\": \"000 [SOS]\", \"col_token\": \"000 [SOS]\"}, {\"row\": 0, \"column\": 1, \"value\": 0.9509804248809814, \"row_token\": \"000 [SOS]\", \"col_token\": \"001 table\"}, {\"row\": 0, \"column\": 2, \"value\": 0.03724772855639458, \"row_token\": \"000 [SOS]\", \"col_token\": \"002 [EOS]\"}, {\"row\": 1, \"column\": 0, \"value\": 0.18912629783153534, \"row_token\": \"001 table\", \"col_token\": \"000 [SOS]\"}, {\"row\": 1, \"column\": 1, \"value\": 0.6820995807647705, \"row_token\": \"001 table\", \"col_token\": \"001 table\"}, {\"row\": 1, \"column\": 2, \"value\": 0.12877407670021057, \"row_token\": \"001 table\", \"col_token\": \"002 [EOS]\"}, {\"row\": 2, \"column\": 0, \"value\": 0.037406112998723984, \"row_token\": \"002 [EOS]\", \"col_token\": \"000 [SOS]\"}, {\"row\": 2, \"column\": 1, \"value\": 0.9048768877983093, \"row_token\": \"002 [EOS]\", \"col_token\": \"001 table\"}, {\"row\": 2, \"column\": 2, \"value\": 0.05771702155470848, \"row_token\": \"002 [EOS]\", \"col_token\": \"002 [EOS]\"}], \"data-78e8b071abd37f468df15f6fdcab4902\": [{\"row\": 0, \"column\": 0, \"value\": 0.015492277219891548, \"row_token\": \"000 [SOS]\", \"col_token\": \"000 [SOS]\"}, {\"row\": 0, \"column\": 1, \"value\": 0.9450873136520386, \"row_token\": \"000 [SOS]\", \"col_token\": \"001 table\"}, {\"row\": 0, \"column\": 2, \"value\": 0.039420437067747116, \"row_token\": \"000 [SOS]\", \"col_token\": \"002 [EOS]\"}, {\"row\": 1, \"column\": 0, \"value\": 0.07447738945484161, \"row_token\": \"001 table\", \"col_token\": \"000 [SOS]\"}, {\"row\": 1, \"column\": 1, \"value\": 0.6048499345779419, \"row_token\": \"001 table\", \"col_token\": \"001 table\"}, {\"row\": 1, \"column\": 2, \"value\": 0.3206727206707001, \"row_token\": \"001 table\", \"col_token\": \"002 [EOS]\"}, {\"row\": 2, \"column\": 0, \"value\": 0.10224002599716187, \"row_token\": \"002 [EOS]\", \"col_token\": \"000 [SOS]\"}, {\"row\": 2, \"column\": 1, \"value\": 0.8116788864135742, \"row_token\": \"002 [EOS]\", \"col_token\": \"001 table\"}, {\"row\": 2, \"column\": 2, \"value\": 0.08608106523752213, \"row_token\": \"002 [EOS]\", \"col_token\": \"002 [EOS]\"}], \"data-23a70d3e1698937748c8e9892f1a10c9\": [{\"row\": 0, \"column\": 0, \"value\": 0.04063845053315163, \"row_token\": \"000 [SOS]\", \"col_token\": \"000 [SOS]\"}, {\"row\": 0, \"column\": 1, \"value\": 0.8790968656539917, \"row_token\": \"000 [SOS]\", \"col_token\": \"001 table\"}, {\"row\": 0, \"column\": 2, \"value\": 0.08026459813117981, \"row_token\": \"000 [SOS]\", \"col_token\": \"002 [EOS]\"}, {\"row\": 1, \"column\": 0, \"value\": 0.08546281605958939, \"row_token\": \"001 table\", \"col_token\": \"000 [SOS]\"}, {\"row\": 1, \"column\": 1, \"value\": 0.8060418963432312, \"row_token\": \"001 table\", \"col_token\": \"001 table\"}, {\"row\": 1, \"column\": 2, \"value\": 0.10849525779485703, \"row_token\": \"001 table\", \"col_token\": \"002 [EOS]\"}, {\"row\": 2, \"column\": 0, \"value\": 0.05303927883505821, \"row_token\": \"002 [EOS]\", \"col_token\": \"000 [SOS]\"}, {\"row\": 2, \"column\": 1, \"value\": 0.894241452217102, \"row_token\": \"002 [EOS]\", \"col_token\": \"001 table\"}, {\"row\": 2, \"column\": 2, \"value\": 0.05271930620074272, \"row_token\": \"002 [EOS]\", \"col_token\": \"002 [EOS]\"}], \"data-d4615ada50cd4ee908b3040e481326ad\": [{\"row\": 0, \"column\": 0, \"value\": 0.06813415884971619, \"row_token\": \"000 [SOS]\", \"col_token\": \"000 [SOS]\"}, {\"row\": 0, \"column\": 1, \"value\": 0.8747607469558716, \"row_token\": \"000 [SOS]\", \"col_token\": \"001 table\"}, {\"row\": 0, \"column\": 2, \"value\": 0.057105109095573425, \"row_token\": \"000 [SOS]\", \"col_token\": \"002 [EOS]\"}, {\"row\": 1, \"column\": 0, \"value\": 0.06645321100950241, \"row_token\": \"001 table\", \"col_token\": \"000 [SOS]\"}, {\"row\": 1, \"column\": 1, \"value\": 0.8983259201049805, \"row_token\": \"001 table\", \"col_token\": \"001 table\"}, {\"row\": 1, \"column\": 2, \"value\": 0.03522089123725891, \"row_token\": \"001 table\", \"col_token\": \"002 [EOS]\"}, {\"row\": 2, \"column\": 0, \"value\": 0.04830867424607277, \"row_token\": \"002 [EOS]\", \"col_token\": \"000 [SOS]\"}, {\"row\": 2, \"column\": 1, \"value\": 0.8854855298995972, \"row_token\": \"002 [EOS]\", \"col_token\": \"001 table\"}, {\"row\": 2, \"column\": 2, \"value\": 0.06620582938194275, \"row_token\": \"002 [EOS]\", \"col_token\": \"002 [EOS]\"}], \"data-042d955a9c063d0662007820d4c0ca64\": [{\"row\": 0, \"column\": 0, \"value\": 0.0860680341720581, \"row_token\": \"000 [SOS]\", \"col_token\": \"000 [SOS]\"}, {\"row\": 0, \"column\": 1, \"value\": 0.7951024770736694, \"row_token\": \"000 [SOS]\", \"col_token\": \"001 table\"}, {\"row\": 0, \"column\": 2, \"value\": 0.11882951855659485, \"row_token\": \"000 [SOS]\", \"col_token\": \"002 [EOS]\"}, {\"row\": 1, \"column\": 0, \"value\": 0.05664904788136482, \"row_token\": \"001 table\", \"col_token\": \"000 [SOS]\"}, {\"row\": 1, \"column\": 1, \"value\": 0.8307933211326599, \"row_token\": \"001 table\", \"col_token\": \"001 table\"}, {\"row\": 1, \"column\": 2, \"value\": 0.11255764961242676, \"row_token\": \"001 table\", \"col_token\": \"002 [EOS]\"}, {\"row\": 2, \"column\": 0, \"value\": 0.09937634319067001, \"row_token\": \"002 [EOS]\", \"col_token\": \"000 [SOS]\"}, {\"row\": 2, \"column\": 1, \"value\": 0.8451762795448303, \"row_token\": \"002 [EOS]\", \"col_token\": \"001 table\"}, {\"row\": 2, \"column\": 2, \"value\": 0.05544741451740265, \"row_token\": \"002 [EOS]\", \"col_token\": \"002 [EOS]\"}], \"data-f5b61f9b71247121e9062279ee48396a\": [{\"row\": 0, \"column\": 0, \"value\": 0.15410664677619934, \"row_token\": \"000 [SOS]\", \"col_token\": \"000 [SOS]\"}, {\"row\": 0, \"column\": 1, \"value\": 0.7260563373565674, \"row_token\": \"000 [SOS]\", \"col_token\": \"001 table\"}, {\"row\": 0, \"column\": 2, \"value\": 0.11983700096607208, \"row_token\": \"000 [SOS]\", \"col_token\": \"002 [EOS]\"}, {\"row\": 1, \"column\": 0, \"value\": 0.052273765206336975, \"row_token\": \"001 table\", \"col_token\": \"000 [SOS]\"}, {\"row\": 1, \"column\": 1, \"value\": 0.8581162691116333, \"row_token\": \"001 table\", \"col_token\": \"001 table\"}, {\"row\": 1, \"column\": 2, \"value\": 0.08960993587970734, \"row_token\": \"001 table\", \"col_token\": \"002 [EOS]\"}, {\"row\": 2, \"column\": 0, \"value\": 0.11448971182107925, \"row_token\": \"002 [EOS]\", \"col_token\": \"000 [SOS]\"}, {\"row\": 2, \"column\": 1, \"value\": 0.7797598242759705, \"row_token\": \"002 [EOS]\", \"col_token\": \"001 table\"}, {\"row\": 2, \"column\": 2, \"value\": 0.10575050860643387, \"row_token\": \"002 [EOS]\", \"col_token\": \"002 [EOS]\"}], \"data-be90dfa0c0c58932a0e228466f5fb234\": [{\"row\": 0, \"column\": 0, \"value\": 0.45981553196907043, \"row_token\": \"000 [SOS]\", \"col_token\": \"000 [SOS]\"}, {\"row\": 0, \"column\": 1, \"value\": 0.3214854598045349, \"row_token\": \"000 [SOS]\", \"col_token\": \"001 table\"}, {\"row\": 0, \"column\": 2, \"value\": 0.21869902312755585, \"row_token\": \"000 [SOS]\", \"col_token\": \"002 [EOS]\"}, {\"row\": 1, \"column\": 0, \"value\": 0.37831318378448486, \"row_token\": \"001 table\", \"col_token\": \"000 [SOS]\"}, {\"row\": 1, \"column\": 1, \"value\": 0.3963661193847656, \"row_token\": \"001 table\", \"col_token\": \"001 table\"}, {\"row\": 1, \"column\": 2, \"value\": 0.2253206968307495, \"row_token\": \"001 table\", \"col_token\": \"002 [EOS]\"}, {\"row\": 2, \"column\": 0, \"value\": 0.3324165940284729, \"row_token\": \"002 [EOS]\", \"col_token\": \"000 [SOS]\"}, {\"row\": 2, \"column\": 1, \"value\": 0.3760393559932709, \"row_token\": \"002 [EOS]\", \"col_token\": \"001 table\"}, {\"row\": 2, \"column\": 2, \"value\": 0.2915440797805786, \"row_token\": \"002 [EOS]\", \"col_token\": \"002 [EOS]\"}], \"data-e8ae1a38561dd84783ece9007a874725\": [{\"row\": 0, \"column\": 0, \"value\": 0.2563256621360779, \"row_token\": \"000 [SOS]\", \"col_token\": \"000 [SOS]\"}, {\"row\": 0, \"column\": 1, \"value\": 0.5706480741500854, \"row_token\": \"000 [SOS]\", \"col_token\": \"001 table\"}, {\"row\": 0, \"column\": 2, \"value\": 0.17302629351615906, \"row_token\": \"000 [SOS]\", \"col_token\": \"002 [EOS]\"}, {\"row\": 1, \"column\": 0, \"value\": 0.3366841971874237, \"row_token\": \"001 table\", \"col_token\": \"000 [SOS]\"}, {\"row\": 1, \"column\": 1, \"value\": 0.4518863260746002, \"row_token\": \"001 table\", \"col_token\": \"001 table\"}, {\"row\": 1, \"column\": 2, \"value\": 0.21142946183681488, \"row_token\": \"001 table\", \"col_token\": \"002 [EOS]\"}, {\"row\": 2, \"column\": 0, \"value\": 0.25174233317375183, \"row_token\": \"002 [EOS]\", \"col_token\": \"000 [SOS]\"}, {\"row\": 2, \"column\": 1, \"value\": 0.5771477222442627, \"row_token\": \"002 [EOS]\", \"col_token\": \"001 table\"}, {\"row\": 2, \"column\": 2, \"value\": 0.17110992968082428, \"row_token\": \"002 [EOS]\", \"col_token\": \"002 [EOS]\"}], \"data-8a198295da7968bbb38c0a361f162d64\": [{\"row\": 0, \"column\": 0, \"value\": 0.4178498685359955, \"row_token\": \"000 [SOS]\", \"col_token\": \"000 [SOS]\"}, {\"row\": 0, \"column\": 1, \"value\": 0.388071209192276, \"row_token\": \"000 [SOS]\", \"col_token\": \"001 table\"}, {\"row\": 0, \"column\": 2, \"value\": 0.19407889246940613, \"row_token\": \"000 [SOS]\", \"col_token\": \"002 [EOS]\"}, {\"row\": 1, \"column\": 0, \"value\": 0.47127169370651245, \"row_token\": \"001 table\", \"col_token\": \"000 [SOS]\"}, {\"row\": 1, \"column\": 1, \"value\": 0.2946261167526245, \"row_token\": \"001 table\", \"col_token\": \"001 table\"}, {\"row\": 1, \"column\": 2, \"value\": 0.23410218954086304, \"row_token\": \"001 table\", \"col_token\": \"002 [EOS]\"}, {\"row\": 2, \"column\": 0, \"value\": 0.35161229968070984, \"row_token\": \"002 [EOS]\", \"col_token\": \"000 [SOS]\"}, {\"row\": 2, \"column\": 1, \"value\": 0.4351121783256531, \"row_token\": \"002 [EOS]\", \"col_token\": \"001 table\"}, {\"row\": 2, \"column\": 2, \"value\": 0.21327555179595947, \"row_token\": \"002 [EOS]\", \"col_token\": \"002 [EOS]\"}], \"data-703671d514966a316f6f969499aaae46\": [{\"row\": 0, \"column\": 0, \"value\": 0.32482343912124634, \"row_token\": \"000 [SOS]\", \"col_token\": \"000 [SOS]\"}, {\"row\": 0, \"column\": 1, \"value\": 0.4751298725605011, \"row_token\": \"000 [SOS]\", \"col_token\": \"001 table\"}, {\"row\": 0, \"column\": 2, \"value\": 0.20004667341709137, \"row_token\": \"000 [SOS]\", \"col_token\": \"002 [EOS]\"}, {\"row\": 1, \"column\": 0, \"value\": 0.2939301133155823, \"row_token\": \"001 table\", \"col_token\": \"000 [SOS]\"}, {\"row\": 1, \"column\": 1, \"value\": 0.4352138340473175, \"row_token\": \"001 table\", \"col_token\": \"001 table\"}, {\"row\": 1, \"column\": 2, \"value\": 0.2708560526371002, \"row_token\": \"001 table\", \"col_token\": \"002 [EOS]\"}, {\"row\": 2, \"column\": 0, \"value\": 0.2346683293581009, \"row_token\": \"002 [EOS]\", \"col_token\": \"000 [SOS]\"}, {\"row\": 2, \"column\": 1, \"value\": 0.5104338526725769, \"row_token\": \"002 [EOS]\", \"col_token\": \"001 table\"}, {\"row\": 2, \"column\": 2, \"value\": 0.2548977732658386, \"row_token\": \"002 [EOS]\", \"col_token\": \"002 [EOS]\"}], \"data-fe3250895cb1a57c585101f83d206afd\": [{\"row\": 0, \"column\": 0, \"value\": 0.2185470163822174, \"row_token\": \"000 [SOS]\", \"col_token\": \"000 [SOS]\"}, {\"row\": 0, \"column\": 1, \"value\": 0.53221595287323, \"row_token\": \"000 [SOS]\", \"col_token\": \"001 table\"}, {\"row\": 0, \"column\": 2, \"value\": 0.24923700094223022, \"row_token\": \"000 [SOS]\", \"col_token\": \"002 [EOS]\"}, {\"row\": 1, \"column\": 0, \"value\": 0.21888484060764313, \"row_token\": \"001 table\", \"col_token\": \"000 [SOS]\"}, {\"row\": 1, \"column\": 1, \"value\": 0.5225406885147095, \"row_token\": \"001 table\", \"col_token\": \"001 table\"}, {\"row\": 1, \"column\": 2, \"value\": 0.2585744261741638, \"row_token\": \"001 table\", \"col_token\": \"002 [EOS]\"}, {\"row\": 2, \"column\": 0, \"value\": 0.18271373212337494, \"row_token\": \"002 [EOS]\", \"col_token\": \"000 [SOS]\"}, {\"row\": 2, \"column\": 1, \"value\": 0.5379337072372437, \"row_token\": \"002 [EOS]\", \"col_token\": \"001 table\"}, {\"row\": 2, \"column\": 2, \"value\": 0.2793525755405426, \"row_token\": \"002 [EOS]\", \"col_token\": \"002 [EOS]\"}], \"data-e5dae4e4f73467f5e749df5ab50569f7\": [{\"row\": 0, \"column\": 0, \"value\": 0.1775544285774231, \"row_token\": \"000 [SOS]\", \"col_token\": \"000 [SOS]\"}, {\"row\": 0, \"column\": 1, \"value\": 0.48207658529281616, \"row_token\": \"000 [SOS]\", \"col_token\": \"001 table\"}, {\"row\": 0, \"column\": 2, \"value\": 0.34036895632743835, \"row_token\": \"000 [SOS]\", \"col_token\": \"002 [EOS]\"}, {\"row\": 1, \"column\": 0, \"value\": 0.18769575655460358, \"row_token\": \"001 table\", \"col_token\": \"000 [SOS]\"}, {\"row\": 1, \"column\": 1, \"value\": 0.37248504161834717, \"row_token\": \"001 table\", \"col_token\": \"001 table\"}, {\"row\": 1, \"column\": 2, \"value\": 0.43981918692588806, \"row_token\": \"001 table\", \"col_token\": \"002 [EOS]\"}, {\"row\": 2, \"column\": 0, \"value\": 0.1664789468050003, \"row_token\": \"002 [EOS]\", \"col_token\": \"000 [SOS]\"}, {\"row\": 2, \"column\": 1, \"value\": 0.477569580078125, \"row_token\": \"002 [EOS]\", \"col_token\": \"001 table\"}, {\"row\": 2, \"column\": 2, \"value\": 0.3559515178203583, \"row_token\": \"002 [EOS]\", \"col_token\": \"002 [EOS]\"}], \"data-9d529e14daa4d30ccb1731a2f9c90f4c\": [{\"row\": 0, \"column\": 0, \"value\": 0.23065762221813202, \"row_token\": \"000 [SOS]\", \"col_token\": \"000 [SOS]\"}, {\"row\": 0, \"column\": 1, \"value\": 0.4735907018184662, \"row_token\": \"000 [SOS]\", \"col_token\": \"001 table\"}, {\"row\": 0, \"column\": 2, \"value\": 0.2957517206668854, \"row_token\": \"000 [SOS]\", \"col_token\": \"002 [EOS]\"}, {\"row\": 1, \"column\": 0, \"value\": 0.2184775024652481, \"row_token\": \"001 table\", \"col_token\": \"000 [SOS]\"}, {\"row\": 1, \"column\": 1, \"value\": 0.5422829985618591, \"row_token\": \"001 table\", \"col_token\": \"001 table\"}, {\"row\": 1, \"column\": 2, \"value\": 0.23923949897289276, \"row_token\": \"001 table\", \"col_token\": \"002 [EOS]\"}, {\"row\": 2, \"column\": 0, \"value\": 0.2705049216747284, \"row_token\": \"002 [EOS]\", \"col_token\": \"000 [SOS]\"}, {\"row\": 2, \"column\": 1, \"value\": 0.4610665440559387, \"row_token\": \"002 [EOS]\", \"col_token\": \"001 table\"}, {\"row\": 2, \"column\": 2, \"value\": 0.2684285044670105, \"row_token\": \"002 [EOS]\", \"col_token\": \"002 [EOS]\"}], \"data-370b745419c194abd55ca1e8c9f89cb9\": [{\"row\": 0, \"column\": 0, \"value\": 0.3118729889392853, \"row_token\": \"000 [SOS]\", \"col_token\": \"000 [SOS]\"}, {\"row\": 0, \"column\": 1, \"value\": 0.4347606599330902, \"row_token\": \"000 [SOS]\", \"col_token\": \"001 table\"}, {\"row\": 0, \"column\": 2, \"value\": 0.2533663511276245, \"row_token\": \"000 [SOS]\", \"col_token\": \"002 [EOS]\"}, {\"row\": 1, \"column\": 0, \"value\": 0.26189088821411133, \"row_token\": \"001 table\", \"col_token\": \"000 [SOS]\"}, {\"row\": 1, \"column\": 1, \"value\": 0.4230172336101532, \"row_token\": \"001 table\", \"col_token\": \"001 table\"}, {\"row\": 1, \"column\": 2, \"value\": 0.3150918781757355, \"row_token\": \"001 table\", \"col_token\": \"002 [EOS]\"}, {\"row\": 2, \"column\": 0, \"value\": 0.3082934617996216, \"row_token\": \"002 [EOS]\", \"col_token\": \"000 [SOS]\"}, {\"row\": 2, \"column\": 1, \"value\": 0.40643906593322754, \"row_token\": \"002 [EOS]\", \"col_token\": \"001 table\"}, {\"row\": 2, \"column\": 2, \"value\": 0.28526750206947327, \"row_token\": \"002 [EOS]\", \"col_token\": \"002 [EOS]\"}], \"data-8baefab44a297875325ef5b85da0e645\": [{\"row\": 0, \"column\": 0, \"value\": 0.38635870814323425, \"row_token\": \"000 [SOS]\", \"col_token\": \"000 [SOS]\"}, {\"row\": 0, \"column\": 1, \"value\": 0.3326568901538849, \"row_token\": \"000 [SOS]\", \"col_token\": \"001 table\"}, {\"row\": 0, \"column\": 2, \"value\": 0.28098437190055847, \"row_token\": \"000 [SOS]\", \"col_token\": \"002 [EOS]\"}, {\"row\": 1, \"column\": 0, \"value\": 0.3961040675640106, \"row_token\": \"001 table\", \"col_token\": \"000 [SOS]\"}, {\"row\": 1, \"column\": 1, \"value\": 0.31136229634284973, \"row_token\": \"001 table\", \"col_token\": \"001 table\"}, {\"row\": 1, \"column\": 2, \"value\": 0.29253366589546204, \"row_token\": \"001 table\", \"col_token\": \"002 [EOS]\"}, {\"row\": 2, \"column\": 0, \"value\": 0.385969340801239, \"row_token\": \"002 [EOS]\", \"col_token\": \"000 [SOS]\"}, {\"row\": 2, \"column\": 1, \"value\": 0.35148948431015015, \"row_token\": \"002 [EOS]\", \"col_token\": \"001 table\"}, {\"row\": 2, \"column\": 2, \"value\": 0.26254117488861084, \"row_token\": \"002 [EOS]\", \"col_token\": \"002 [EOS]\"}], \"data-b06e18d6b512c72b429e28114c0f1071\": [{\"row\": 0, \"column\": 0, \"value\": 0.3440285623073578, \"row_token\": \"000 [SOS]\", \"col_token\": \"000 [SOS]\"}, {\"row\": 0, \"column\": 1, \"value\": 0.3325776159763336, \"row_token\": \"000 [SOS]\", \"col_token\": \"001 table\"}, {\"row\": 0, \"column\": 2, \"value\": 0.323393851518631, \"row_token\": \"000 [SOS]\", \"col_token\": \"002 [EOS]\"}, {\"row\": 1, \"column\": 0, \"value\": 0.33210983872413635, \"row_token\": \"001 table\", \"col_token\": \"000 [SOS]\"}, {\"row\": 1, \"column\": 1, \"value\": 0.29816851019859314, \"row_token\": \"001 table\", \"col_token\": \"001 table\"}, {\"row\": 1, \"column\": 2, \"value\": 0.3697216212749481, \"row_token\": \"001 table\", \"col_token\": \"002 [EOS]\"}, {\"row\": 2, \"column\": 0, \"value\": 0.31899672746658325, \"row_token\": \"002 [EOS]\", \"col_token\": \"000 [SOS]\"}, {\"row\": 2, \"column\": 1, \"value\": 0.3429819345474243, \"row_token\": \"002 [EOS]\", \"col_token\": \"001 table\"}, {\"row\": 2, \"column\": 2, \"value\": 0.3380213975906372, \"row_token\": \"002 [EOS]\", \"col_token\": \"002 [EOS]\"}], \"data-4384060a6d5cc81be14d632440ad58a9\": [{\"row\": 0, \"column\": 0, \"value\": 0.35279175639152527, \"row_token\": \"000 [SOS]\", \"col_token\": \"000 [SOS]\"}, {\"row\": 0, \"column\": 1, \"value\": 0.3722870945930481, \"row_token\": \"000 [SOS]\", \"col_token\": \"001 table\"}, {\"row\": 0, \"column\": 2, \"value\": 0.27492114901542664, \"row_token\": \"000 [SOS]\", \"col_token\": \"002 [EOS]\"}, {\"row\": 1, \"column\": 0, \"value\": 0.3377096354961395, \"row_token\": \"001 table\", \"col_token\": \"000 [SOS]\"}, {\"row\": 1, \"column\": 1, \"value\": 0.3841232359409332, \"row_token\": \"001 table\", \"col_token\": \"001 table\"}, {\"row\": 1, \"column\": 2, \"value\": 0.27816709876060486, \"row_token\": \"001 table\", \"col_token\": \"002 [EOS]\"}, {\"row\": 2, \"column\": 0, \"value\": 0.34255027770996094, \"row_token\": \"002 [EOS]\", \"col_token\": \"000 [SOS]\"}, {\"row\": 2, \"column\": 1, \"value\": 0.38940972089767456, \"row_token\": \"002 [EOS]\", \"col_token\": \"001 table\"}, {\"row\": 2, \"column\": 2, \"value\": 0.2680399715900421, \"row_token\": \"002 [EOS]\", \"col_token\": \"002 [EOS]\"}], \"data-78675baee64c87319ab50686eb363797\": [{\"row\": 0, \"column\": 0, \"value\": 0.31569287180900574, \"row_token\": \"000 [SOS]\", \"col_token\": \"000 [SOS]\"}, {\"row\": 0, \"column\": 1, \"value\": 0.361426442861557, \"row_token\": \"000 [SOS]\", \"col_token\": \"001 table\"}, {\"row\": 0, \"column\": 2, \"value\": 0.3228806257247925, \"row_token\": \"000 [SOS]\", \"col_token\": \"002 [EOS]\"}, {\"row\": 1, \"column\": 0, \"value\": 0.3429306745529175, \"row_token\": \"001 table\", \"col_token\": \"000 [SOS]\"}, {\"row\": 1, \"column\": 1, \"value\": 0.3285157382488251, \"row_token\": \"001 table\", \"col_token\": \"001 table\"}, {\"row\": 1, \"column\": 2, \"value\": 0.3285536468029022, \"row_token\": \"001 table\", \"col_token\": \"002 [EOS]\"}, {\"row\": 2, \"column\": 0, \"value\": 0.3229612708091736, \"row_token\": \"002 [EOS]\", \"col_token\": \"000 [SOS]\"}, {\"row\": 2, \"column\": 1, \"value\": 0.3763943612575531, \"row_token\": \"002 [EOS]\", \"col_token\": \"001 table\"}, {\"row\": 2, \"column\": 2, \"value\": 0.3006443381309509, \"row_token\": \"002 [EOS]\", \"col_token\": \"002 [EOS]\"}], \"data-2dfec4d86a5a35d43eea38ac3723dc4c\": [{\"row\": 0, \"column\": 0, \"value\": 0.23043875396251678, \"row_token\": \"000 [SOS]\", \"col_token\": \"000 [SOS]\"}, {\"row\": 0, \"column\": 1, \"value\": 0.4530077874660492, \"row_token\": \"000 [SOS]\", \"col_token\": \"001 table\"}, {\"row\": 0, \"column\": 2, \"value\": 0.31655341386795044, \"row_token\": \"000 [SOS]\", \"col_token\": \"002 [EOS]\"}, {\"row\": 1, \"column\": 0, \"value\": 0.20971180498600006, \"row_token\": \"001 table\", \"col_token\": \"000 [SOS]\"}, {\"row\": 1, \"column\": 1, \"value\": 0.5119059681892395, \"row_token\": \"001 table\", \"col_token\": \"001 table\"}, {\"row\": 1, \"column\": 2, \"value\": 0.27838221192359924, \"row_token\": \"001 table\", \"col_token\": \"002 [EOS]\"}, {\"row\": 2, \"column\": 0, \"value\": 0.21294429898262024, \"row_token\": \"002 [EOS]\", \"col_token\": \"000 [SOS]\"}, {\"row\": 2, \"column\": 1, \"value\": 0.4542832374572754, \"row_token\": \"002 [EOS]\", \"col_token\": \"001 table\"}, {\"row\": 2, \"column\": 2, \"value\": 0.332772433757782, \"row_token\": \"002 [EOS]\", \"col_token\": \"002 [EOS]\"}], \"data-fdeda62120690e4fbdc2100564cd427b\": [{\"row\": 0, \"column\": 0, \"value\": 0.19893629848957062, \"row_token\": \"000 [SOS]\", \"col_token\": \"000 [SOS]\"}, {\"row\": 0, \"column\": 1, \"value\": 0.39296668767929077, \"row_token\": \"000 [SOS]\", \"col_token\": \"001 table\"}, {\"row\": 0, \"column\": 2, \"value\": 0.4080970287322998, \"row_token\": \"000 [SOS]\", \"col_token\": \"002 [EOS]\"}, {\"row\": 1, \"column\": 0, \"value\": 0.22056405246257782, \"row_token\": \"001 table\", \"col_token\": \"000 [SOS]\"}, {\"row\": 1, \"column\": 1, \"value\": 0.3914748728275299, \"row_token\": \"001 table\", \"col_token\": \"001 table\"}, {\"row\": 1, \"column\": 2, \"value\": 0.38796108961105347, \"row_token\": \"001 table\", \"col_token\": \"002 [EOS]\"}, {\"row\": 2, \"column\": 0, \"value\": 0.22021576762199402, \"row_token\": \"002 [EOS]\", \"col_token\": \"000 [SOS]\"}, {\"row\": 2, \"column\": 1, \"value\": 0.3430527448654175, \"row_token\": \"002 [EOS]\", \"col_token\": \"001 table\"}, {\"row\": 2, \"column\": 2, \"value\": 0.4367315173149109, \"row_token\": \"002 [EOS]\", \"col_token\": \"002 [EOS]\"}], \"data-f2becac026fe10a858d0da0b870d5251\": [{\"row\": 0, \"column\": 0, \"value\": 0.292743980884552, \"row_token\": \"000 [SOS]\", \"col_token\": \"000 [SOS]\"}, {\"row\": 0, \"column\": 1, \"value\": 0.49593913555145264, \"row_token\": \"000 [SOS]\", \"col_token\": \"001 table\"}, {\"row\": 0, \"column\": 2, \"value\": 0.21131689846515656, \"row_token\": \"000 [SOS]\", \"col_token\": \"002 [EOS]\"}, {\"row\": 1, \"column\": 0, \"value\": 0.2870205044746399, \"row_token\": \"001 table\", \"col_token\": \"000 [SOS]\"}, {\"row\": 1, \"column\": 1, \"value\": 0.4894750118255615, \"row_token\": \"001 table\", \"col_token\": \"001 table\"}, {\"row\": 1, \"column\": 2, \"value\": 0.2235044538974762, \"row_token\": \"001 table\", \"col_token\": \"002 [EOS]\"}, {\"row\": 2, \"column\": 0, \"value\": 0.30014386773109436, \"row_token\": \"002 [EOS]\", \"col_token\": \"000 [SOS]\"}, {\"row\": 2, \"column\": 1, \"value\": 0.4949715733528137, \"row_token\": \"002 [EOS]\", \"col_token\": \"001 table\"}, {\"row\": 2, \"column\": 2, \"value\": 0.20488452911376953, \"row_token\": \"002 [EOS]\", \"col_token\": \"002 [EOS]\"}], \"data-014c499a7f6717145a95ef2410360477\": [{\"row\": 0, \"column\": 0, \"value\": 0.34648820757865906, \"row_token\": \"000 [SOS]\", \"col_token\": \"000 [SOS]\"}, {\"row\": 0, \"column\": 1, \"value\": 0.30755650997161865, \"row_token\": \"000 [SOS]\", \"col_token\": \"001 table\"}, {\"row\": 0, \"column\": 2, \"value\": 0.3459552526473999, \"row_token\": \"000 [SOS]\", \"col_token\": \"002 [EOS]\"}, {\"row\": 1, \"column\": 0, \"value\": 0.3454115092754364, \"row_token\": \"001 table\", \"col_token\": \"000 [SOS]\"}, {\"row\": 1, \"column\": 1, \"value\": 0.3235175311565399, \"row_token\": \"001 table\", \"col_token\": \"001 table\"}, {\"row\": 1, \"column\": 2, \"value\": 0.33107098937034607, \"row_token\": \"001 table\", \"col_token\": \"002 [EOS]\"}, {\"row\": 2, \"column\": 0, \"value\": 0.3392476439476013, \"row_token\": \"002 [EOS]\", \"col_token\": \"000 [SOS]\"}, {\"row\": 2, \"column\": 1, \"value\": 0.29892203211784363, \"row_token\": \"002 [EOS]\", \"col_token\": \"001 table\"}, {\"row\": 2, \"column\": 2, \"value\": 0.36183029413223267, \"row_token\": \"002 [EOS]\", \"col_token\": \"002 [EOS]\"}]}}, {\"mode\": \"vega-lite\"});\n",
              "</script>"
            ],
            "text/plain": [
              "alt.VConcatChart(...)"
            ]
          },
          "metadata": {},
          "execution_count": 6
        }
      ]
    },
    {
      "cell_type": "code",
      "source": [],
      "metadata": {
        "id": "5Lbh06TCS7yP"
      },
      "execution_count": null,
      "outputs": []
    }
  ],
  "metadata": {
    "accelerator": "GPU",
    "colab": {
      "gpuType": "T4",
      "provenance": []
    },
    "kernelspec": {
      "display_name": "Python 3",
      "name": "python3"
    },
    "language_info": {
      "codemirror_mode": {
        "name": "ipython",
        "version": 3
      },
      "file_extension": ".py",
      "mimetype": "text/x-python",
      "name": "python",
      "nbconvert_exporter": "python",
      "pygments_lexer": "ipython3",
      "version": "3.10.6"
    }
  },
  "nbformat": 4,
  "nbformat_minor": 0
}